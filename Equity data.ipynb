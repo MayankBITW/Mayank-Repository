{
 "cells": [
  {
   "cell_type": "code",
   "execution_count": null,
   "id": "76f2b0c7",
   "metadata": {},
   "outputs": [
    {
     "name": "stdout",
     "output_type": "stream",
     "text": [
      "Requirement already satisfied: nselib in c:\\users\\asus\\appdata\\local\\programs\\python\\python313\\lib\\site-packages (1.9)\n",
      "Requirement already satisfied: requests in c:\\users\\asus\\appdata\\local\\programs\\python\\python313\\lib\\site-packages (from nselib) (2.32.3)\n",
      "Requirement already satisfied: pandas in c:\\users\\asus\\appdata\\local\\programs\\python\\python313\\lib\\site-packages (from nselib) (2.3.0)\n",
      "Requirement already satisfied: scipy in c:\\users\\asus\\appdata\\local\\programs\\python\\python313\\lib\\site-packages (from nselib) (1.15.3)\n",
      "Requirement already satisfied: numpy>=1.26.0 in c:\\users\\asus\\appdata\\local\\programs\\python\\python313\\lib\\site-packages (from pandas->nselib) (2.3.1)\n",
      "Requirement already satisfied: python-dateutil>=2.8.2 in c:\\users\\asus\\appdata\\local\\programs\\python\\python313\\lib\\site-packages (from pandas->nselib) (2.9.0.post0)\n",
      "Requirement already satisfied: pytz>=2020.1 in c:\\users\\asus\\appdata\\local\\programs\\python\\python313\\lib\\site-packages (from pandas->nselib) (2025.2)\n",
      "Requirement already satisfied: tzdata>=2022.7 in c:\\users\\asus\\appdata\\local\\programs\\python\\python313\\lib\\site-packages (from pandas->nselib) (2025.2)\n",
      "Requirement already satisfied: six>=1.5 in c:\\users\\asus\\appdata\\local\\programs\\python\\python313\\lib\\site-packages (from python-dateutil>=2.8.2->pandas->nselib) (1.17.0)\n",
      "Requirement already satisfied: charset-normalizer<4,>=2 in c:\\users\\asus\\appdata\\local\\programs\\python\\python313\\lib\\site-packages (from requests->nselib) (3.4.2)\n",
      "Requirement already satisfied: idna<4,>=2.5 in c:\\users\\asus\\appdata\\local\\programs\\python\\python313\\lib\\site-packages (from requests->nselib) (3.10)\n",
      "Requirement already satisfied: urllib3<3,>=1.21.1 in c:\\users\\asus\\appdata\\local\\programs\\python\\python313\\lib\\site-packages (from requests->nselib) (2.4.0)\n",
      "Requirement already satisfied: certifi>=2017.4.17 in c:\\users\\asus\\appdata\\local\\programs\\python\\python313\\lib\\site-packages (from requests->nselib) (2025.4.26)\n",
      "Note: you may need to restart the kernel to use updated packages.\n"
     ]
    }
   ],
   "source": [
    "pip install nselib\n",
    "pip install schedule\n"
   ]
  },
  {
   "cell_type": "code",
   "execution_count": 4,
   "id": "c9d6b9ef",
   "metadata": {},
   "outputs": [],
   "source": [
    "import nselib\n",
    "from nselib import capital_market\n",
    "import pandas as pd\n"
   ]
  },
  {
   "cell_type": "code",
   "execution_count": null,
   "id": "ec139423",
   "metadata": {},
   "outputs": [
    {
     "name": "stdout",
     "output_type": "stream",
     "text": [
      "5665 days, 0:00:00\n"
     ]
    }
   ],
   "source": []
  },
  {
   "cell_type": "code",
   "execution_count": null,
   "id": "b1e3720b",
   "metadata": {},
   "outputs": [
    {
     "name": "stdout",
     "output_type": "stream",
     "text": [
      "Fetched 01-01-2020\n",
      "Fetched 02-01-2020\n",
      "Fetched 03-01-2020\n",
      "Fetched 06-01-2020\n",
      "Fetched 07-01-2020\n",
      "Fetched 08-01-2020\n"
     ]
    }
   ],
   "source": [
    "import os\n",
    "from datetime import datetime, timedelta, date\n",
    "import pandas as pd\n",
    "from pandas.tseries.offsets import CustomBusinessDay\n",
    "import holidays\n",
    "from nselib import capital_market\n",
    "\n",
    "# Setup\n",
    "output_file = \"bhavcopy_data.csv\"\n",
    "in_holidays = holidays.India()\n",
    "business_days = CustomBusinessDay(holidays=in_holidays)\n",
    "\n",
    "# Date range\n",
    "first_date=date(2020,1,1)\n",
    "today = date.today()\n",
    "diff= (today - first_date).days\n",
    "\n",
    "\n",
    "now = datetime.now()\n",
    "end = datetime.today() if now > now.replace(hour=9, minute=20) else datetime.today() - timedelta(days=1)\n",
    "start = end - timedelta(days=diff)\n",
    "dates = pd.date_range(start, end, freq=business_days)[-diff:]\n",
    "date_strs = [d.strftime('%d-%m-%Y') for d in (dates)]\n",
    "\n",
    "# Existing dates\n",
    "existing = set()\n",
    "if os.path.exists(output_file):\n",
    "    existing = set(pd.read_csv(output_file, usecols=[\"date\"])[\"date\"].unique())\n",
    "\n",
    "# Fetch and append new data\n",
    "new_data = []\n",
    "for ds in date_strs:\n",
    "    if ds in existing:\n",
    "        print(f\"Skipping {ds}\")\n",
    "        continue\n",
    "    try:\n",
    "        df = capital_market.bhav_copy_with_delivery(ds)\n",
    "        df[\"date\"] = ds\n",
    "        new_data.append(df)\n",
    "        print(f\"Fetched {ds}\")\n",
    "    except Exception as e:\n",
    "        print(f\"Failed {ds}: {e}\")\n",
    "\n",
    "if new_data:\n",
    "    combined = pd.concat(new_data)\n",
    "    combined.to_csv(output_file, mode='a', header=not os.path.exists(output_file), index=False)\n",
    "    print(\"Data saved.\")\n",
    "else:\n",
    "    print(\"No new data.\")\n"
   ]
  },
  {
   "cell_type": "code",
   "execution_count": null,
   "id": "e59240aa",
   "metadata": {},
   "outputs": [],
   "source": []
  }
 ],
 "metadata": {
  "kernelspec": {
   "display_name": "Python 3",
   "language": "python",
   "name": "python3"
  },
  "language_info": {
   "codemirror_mode": {
    "name": "ipython",
    "version": 3
   },
   "file_extension": ".py",
   "mimetype": "text/x-python",
   "name": "python",
   "nbconvert_exporter": "python",
   "pygments_lexer": "ipython3",
   "version": "3.13.4"
  }
 },
 "nbformat": 4,
 "nbformat_minor": 5
}
